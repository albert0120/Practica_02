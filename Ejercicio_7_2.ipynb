{
 "cells": [
  {
   "cell_type": "code",
   "execution_count": 5,
   "metadata": {},
   "outputs": [
    {
     "name": "stdout",
     "output_type": "stream",
     "text": [
      "2020 Tesla Model S\n",
      "This car has a 70-kWh battery.\n",
      "2020 Bmw I3\n",
      "This car has a 70-kWh battery. and 40 liters of gasoline\n",
      "2020 Escape Ford\n",
      "This car has a 40liters of gasoline\n"
     ]
    }
   ],
   "source": [
    "class Car():\n",
    "    \"\"\"Un intento de representar un auto\"\"\"\n",
    "    def __init__(self, make, model, year):\n",
    "        self.make = make\n",
    "        self.model = model\n",
    "        self.year = year\n",
    "        self.odometer_reading = 0\n",
    "    \n",
    "    def get_descriptive_name(self):\n",
    "        long_name = str(self.year) + ' ' + self.make + ' ' + self.model\n",
    "        return long_name.title()\n",
    "    \n",
    "    def read_odometer(self):\n",
    "        print(\"This car has \" + str(self.odometer_reading) + \" miles on it.\")\n",
    "    \n",
    "    def update_odometer(self, mileage):\n",
    "        if mileage >= self.odometer_reading:\n",
    "            self.odometer_reading = mileage\n",
    "        else:\n",
    "            print(\"You can’t roll back an odometer!\")\n",
    "    \n",
    "    def increment_odometer(self, miles):\n",
    "        self.odometer_reading += miles\n",
    "\n",
    "class ElectricCar(Car):\n",
    "   \n",
    "    def __init__(self,make,model,year):\n",
    "    \n",
    "        Car.__init__(self,make,model,year)\n",
    "        self.battery_size = 70\n",
    "\n",
    "    def describe_battery(self):\n",
    "    \n",
    "        print(\"This car has a \" + str(self.battery_size) + \"-kWh battery.\")\n",
    "\n",
    "class HybridCar(Car):\n",
    "    \n",
    "    def __init__(self,make,model,year):\n",
    "        Car.__init__(self,make,model,year)\n",
    "        self.battery_size = 70\n",
    "        self.tank_gas= 40\n",
    "    \n",
    "    def describe_meditions(self):\n",
    "        print(\"This car has a \" + str(self.battery_size) + \"-kWh battery.\"+' and '+ str(self.tank_gas)+' liters of gasoline')\n",
    "\n",
    "class FuelCar(Car): \n",
    "    \n",
    "    def __init__(self,make,model,year): \n",
    "        Car.__init__(self,make,model,year)\n",
    "        self.tank_gas = 40\n",
    "    \n",
    "    def describe_Tank(self):\n",
    "        print(\"This car has a \" + str(self.tank_gas) + \"liters of gasoline\")\n",
    "\n",
    "my_tesla = ElectricCar('tesla','model s',2020) \n",
    "print(my_tesla.get_descriptive_name())\n",
    "my_tesla.describe_battery()\n",
    "my_hybrid_car = HybridCar('Bmw','I3',2020) \n",
    "print(my_hybrid_car.get_descriptive_name())\n",
    "my_hybrid_car.describe_meditions()\n",
    "my_FuelCar = FuelCar('Escape','ford',2020) \n",
    "print(my_FuelCar.get_descriptive_name())\n",
    "my_FuelCar.describe_Tank()"
   ]
  },
  {
   "cell_type": "code",
   "execution_count": null,
   "metadata": {},
   "outputs": [],
   "source": []
  },
  {
   "cell_type": "code",
   "execution_count": null,
   "metadata": {},
   "outputs": [],
   "source": []
  }
 ],
 "metadata": {
  "kernelspec": {
   "display_name": "Python 2",
   "language": "python",
   "name": "python2"
  },
  "language_info": {
   "codemirror_mode": {
    "name": "ipython",
    "version": 2
   },
   "file_extension": ".py",
   "mimetype": "text/x-python",
   "name": "python",
   "nbconvert_exporter": "python",
   "pygments_lexer": "ipython2",
   "version": "2.7.16"
  }
 },
 "nbformat": 4,
 "nbformat_minor": 2
}
