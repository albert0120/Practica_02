{
 "cells": [
  {
   "cell_type": "code",
   "execution_count": 3,
   "metadata": {},
   "outputs": [
    {
     "name": "stdout",
     "output_type": "stream",
     "text": [
      "2020,Tesla,Model S\n",
      "2020,Bmw,I3\n",
      "2020,Ford,Escape\n"
     ]
    }
   ],
   "source": [
    "    class Car():\n",
    "        \"\"\"Un intento de representar un auto\"\"\" \n",
    "        def __init__(self, make, model, year):\n",
    "            self.make = make \n",
    "            self.model = model \n",
    "            self.year = year \n",
    "            self.odometer_reading = 0\n",
    "        def get_descriptive_name(self):\n",
    "            long_name = str(self.year) + ',' + self.make + ',' + self.model \n",
    "            return long_name.title()\n",
    "        def read_odometer(self): \n",
    "            print(\"This car has \" + str(self.odometer_reading) + \" miles on it.\")\n",
    "        def update_odometer(self, mileage):\n",
    "            if mileage >= self.odometer_reading:\n",
    "                self.odometer_reading = mileage\n",
    "            else: \n",
    "                print(\"You can't roll back an odometer!\")\n",
    "        def increment_odometer(self, miles):\n",
    "            self.odometer_reading += miles\n",
    "\n",
    "    class ElectricCar(Car):\n",
    "        \"\"\"Un intento de representar un auto electrico\"\"\" \n",
    "        def __init__(self,make,model,year):\n",
    "            \"\"\" Inicializa los atributos de la clase padre \"\"\" \n",
    "            Car.__init__(self,make,model,year)\n",
    "    my_tesla = ElectricCar('tesla','model s',2020) \n",
    "    print(my_tesla.get_descriptive_name())\n",
    "\n",
    "    class HybridCar(Car):\n",
    "        def __init__(self,make,model,year):\n",
    "            Car.__init__(self,make,model,year)\n",
    "    my_Hybri = HybridCar('Toyota','Camry',2019) \n",
    "    print(my_Hybridcar.get_descriptive_name())\n",
    "    class FuelCar(Car): \n",
    "        def __init__(self,make,model,year):\n",
    "            Car.__init__(self,make,model,year)\n",
    "    my_FuelCar= FuelCar('Ford','Escape',2020) \n",
    "    print(my_FuelCar.get_descriptive_name())"
   ]
  },
  {
   "cell_type": "code",
   "execution_count": null,
   "metadata": {},
   "outputs": [],
   "source": []
  }
 ],
 "metadata": {
  "kernelspec": {
   "display_name": "Python 2",
   "language": "python",
   "name": "python2"
  },
  "language_info": {
   "codemirror_mode": {
    "name": "ipython",
    "version": 2
   },
   "file_extension": ".py",
   "mimetype": "text/x-python",
   "name": "python",
   "nbconvert_exporter": "python",
   "pygments_lexer": "ipython2",
   "version": "2.7.16"
  }
 },
 "nbformat": 4,
 "nbformat_minor": 2
}
