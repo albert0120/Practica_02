{
 "cells": [
  {
   "cell_type": "code",
   "execution_count": 43,
   "metadata": {},
   "outputs": [],
   "source": [
    "class User():\n",
    "    def __init__(self,first_name,last_name,sex_user,number_user):\n",
    "            self.first_name=first_name\n",
    "            self.last_name=last_name\n",
    "            self.sex_user=sex_user\n",
    "            self.number_user=number_user\n",
    "            self.attempt_user = 0\n",
    "            self.reset = 0\n",
    "        \n",
    "    def describe_user(self):\n",
    "             print ('Se ha creado el usuario ' + self.first_name + ' ' + self.last_name + ' con sexo ' + self.sex_user + ' y numero ' + str(self.number_user))\n",
    "                    \n",
    "    def gret_user(self):\n",
    "            print (self.first_name + ' ' + self.last_name + ' gracias por crear tu cuenta Banamex')\n",
    "\n",
    "    def increment_login_attempts(self, user):\n",
    "            if user <= 10:\n",
    "                self.attempt_user = user\n",
    "            else:\n",
    "                print ('you tried too many times to log in')\n",
    "    \n",
    "    def reset_attempts(self):\n",
    "            self.reset=self.attempt_user\n",
    "    \n",
    "    def secure_account(self):\n",
    "            print('Llevas muchos intentos de inicio de sesion ' + str(self.attempt_user) + ' ya no se pueden mas')\n",
    "        \n",
    "            "
   ]
  },
  {
   "cell_type": "code",
   "execution_count": 46,
   "metadata": {},
   "outputs": [
    {
     "name": "stdout",
     "output_type": "stream",
     "text": [
      "Se ha creado el usuario Alberto Ambrosio con sexo Masculino y numero 789456123\n",
      "None\n",
      "Llevas muchos intentos de inicio de sesion 1 ya no se pueden mas\n",
      "Llevas muchos intentos de inicio de sesion 2 ya no se pueden mas\n",
      "Llevas muchos intentos de inicio de sesion 3 ya no se pueden mas\n",
      "Llevas muchos intentos de inicio de sesion 4 ya no se pueden mas\n",
      "Llevas muchos intentos de inicio de sesion 5 ya no se pueden mas\n",
      "Llevas muchos intentos de inicio de sesion 6 ya no se pueden mas\n",
      "Llevas muchos intentos de inicio de sesion 7 ya no se pueden mas\n",
      "Llevas muchos intentos de inicio de sesion 8 ya no se pueden mas\n",
      "Llevas muchos intentos de inicio de sesion 9 ya no se pueden mas\n",
      "Llevas muchos intentos de inicio de sesion 10 ya no se pueden mas\n"
     ]
    }
   ],
   "source": [
    "user=User('Alberto', 'Ambrosio', 'Masculino', 789456123)\n",
    "print(user.describe_user())\n",
    "#user.gret_user()\n",
    "user.increment_login_attempts(1)\n",
    "user.secure_account()\n",
    "user.increment_login_attempts(2)\n",
    "user.secure_account()\n",
    "user.increment_login_attempts(3)\n",
    "user.secure_account()\n",
    "user.increment_login_attempts(4)\n",
    "user.secure_account()\n",
    "user.increment_login_attempts(5)\n",
    "user.secure_account()\n",
    "user.increment_login_attempts(6)\n",
    "user.secure_account()\n",
    "user.increment_login_attempts(7)\n",
    "user.secure_account()\n",
    "user.increment_login_attempts(8)\n",
    "user.secure_account()\n",
    "user.increment_login_attempts(9)\n",
    "user.secure_account()\n",
    "user.increment_login_attempts(10)\n",
    "user.secure_account()"
   ]
  },
  {
   "cell_type": "code",
   "execution_count": null,
   "metadata": {},
   "outputs": [],
   "source": []
  },
  {
   "cell_type": "code",
   "execution_count": null,
   "metadata": {},
   "outputs": [],
   "source": []
  }
 ],
 "metadata": {
  "kernelspec": {
   "display_name": "Python 2",
   "language": "python",
   "name": "python2"
  },
  "language_info": {
   "codemirror_mode": {
    "name": "ipython",
    "version": 2
   },
   "file_extension": ".py",
   "mimetype": "text/x-python",
   "name": "python",
   "nbconvert_exporter": "python",
   "pygments_lexer": "ipython2",
   "version": "2.7.16"
  }
 },
 "nbformat": 4,
 "nbformat_minor": 2
}
