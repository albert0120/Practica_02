{
 "cells": [
  {
   "cell_type": "markdown",
   "metadata": {},
   "source": [
    "# 1.2 Utilizando valores predeterminados para algun atributo"
   ]
  },
  {
   "cell_type": "code",
   "execution_count": 6,
   "metadata": {},
   "outputs": [
    {
     "name": "stdout",
     "output_type": "stream",
     "text": [
      "2020 Audi A4\n",
      "This car has 0 miles on it\n"
     ]
    }
   ],
   "source": [
    "class Car():\n",
    "    \"\"\"Clase tipo coche\"\"\"\n",
    "    def __init__(self, make, model, year):\n",
    "        \"\"\"Inicializacion de los atributos\"\"\"\n",
    "        self.make = make\n",
    "        self.model = model\n",
    "        self.year = year\n",
    "        self.odometer_reading = 0\n",
    "        \n",
    "    def get_descriptive_name(self):\n",
    "        \"\"\" Imprime las caracteristicas en la pantalla\"\"\"\n",
    "        long_name = str(self.year)+' '+self.make + ' '+self.model\n",
    "        return long_name.title()\n",
    "    def read_odometer(sefl):\n",
    "        \"\"\"Imprime los kilometros recorrido por el auto\"\"\"\n",
    "        print(\"This car has \" + str(sefl.odometer_reading) + \" miles on it\")\n",
    "\n",
    "my_new_car = Car('audi','a4',2020)\n",
    "print(my_new_car.get_descriptive_name())\n",
    "my_new_car.read_odometer()"
   ]
  },
  {
   "cell_type": "code",
   "execution_count": 15,
   "metadata": {},
   "outputs": [
    {
     "name": "stdout",
     "output_type": "stream",
     "text": [
      "2020 Audi A4\n",
      "This car has 0 miles on it\n"
     ]
    }
   ],
   "source": [
    "class Car():\n",
    "    \"\"\"Clase tipo coche\"\"\"\n",
    "    def __init__(self, make, model, year):\n",
    "        \"\"\"Inicializacion de los atributos\"\"\"\n",
    "        self.make = make\n",
    "        self.model = model\n",
    "        self.year = year\n",
    "        \n",
    "    def get_descriptive_name(self):\n",
    "        \"\"\" Imprime las caracteristicas en la pantalla\"\"\"\n",
    "        long_name = str(self.year)+' '+self.make + ' '+self.model\n",
    "        return long_name.title()\n",
    "    def read_odometer(self):\n",
    "        \"\"\"Imprime los kilometros recorrido por el auto\"\"\"\n",
    "        self.odometer_reading = 0\n",
    "        print(\"This car has \" + str(self.odometer_reading) + \" miles on it\")\n",
    "\n",
    "my_new_car = Car('audi','a4',2020)\n",
    "print(my_new_car.get_descriptive_name())\n",
    "my_new_car.read_odometer()"
   ]
  },
  {
   "cell_type": "markdown",
   "metadata": {},
   "source": [
    "**El error que observe fue la escritura que es sefl y cuando lo cambie me ejecuto el programa como el primer codigo**"
   ]
  },
  {
   "cell_type": "code",
   "execution_count": 36,
   "metadata": {},
   "outputs": [
    {
     "name": "stdout",
     "output_type": "stream",
     "text": [
      "2020 Audi A4\n",
      "This car has 0 miles on it\n",
      "This car has 50 gasoline capacity\n",
      "This car has 5 doors\n"
     ]
    }
   ],
   "source": [
    "class Car():\n",
    "    \"\"\"Clase tipo coche\"\"\"\n",
    "    def __init__(self, make, model, year):\n",
    "        \"\"\"Inicializacion de los atributos\"\"\"\n",
    "        self.make = make\n",
    "        self.model = model\n",
    "        self.year = year\n",
    "        self.odometer_reading = 0\n",
    "        self.gasoline = 50\n",
    "        self.doors = 5\n",
    "        \n",
    "    def get_descriptive_name(self):\n",
    "        \"\"\" Imprime las caracteristicas en la pantalla\"\"\"\n",
    "        long_name = str(self.year)+' '+self.make + ' '+self.model\n",
    "        return long_name.title()\n",
    "    def read_odometer(self):\n",
    "        \"\"\"Imprime los kilometros recorrido por el auto\"\"\"\n",
    "        print(\"This car has \" + str(self.odometer_reading) + \" miles on it\")\n",
    "    \n",
    "    def liters_gasoline(self):\n",
    "        \"\"\"\"Litros de gasolina\"\"\"\n",
    "        print('This car has' + ' ' + str(self.gasoline) + ' gasoline capacity')\n",
    "    \n",
    "    def doors_car(self):\n",
    "        \"\"\"\"Total de puertas\"\"\"\n",
    "        print('This car has ' + str(self.doors) + ' doors')\n",
    "my_new_car = Car('audi','a4',2020)\n",
    "print(my_new_car.get_descriptive_name())\n",
    "my_new_car.read_odometer()\n",
    "my_new_car.liters_gasoline()\n",
    "my_new_car.doors_car()"
   ]
  },
  {
   "cell_type": "markdown",
   "metadata": {},
   "source": []
  }
 ],
 "metadata": {
  "kernelspec": {
   "display_name": "Python 3",
   "language": "python",
   "name": "python3"
  },
  "language_info": {
   "codemirror_mode": {
    "name": "ipython",
    "version": 3
   },
   "file_extension": ".py",
   "mimetype": "text/x-python",
   "name": "python",
   "nbconvert_exporter": "python",
   "pygments_lexer": "ipython3",
   "version": "3.7.4"
  }
 },
 "nbformat": 4,
 "nbformat_minor": 2
}
