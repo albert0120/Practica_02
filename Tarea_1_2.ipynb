{
 "cells": [
  {
   "cell_type": "code",
   "execution_count": 72,
   "metadata": {},
   "outputs": [],
   "source": [
    "class Restaurant():\n",
    "    def __init__(self, restaurant_name, cousine_type, open_time, close_time):\n",
    "        self.restaurant_name = restaurant_name\n",
    "        self.cousine_type = cousine_type\n",
    "        self.open_time = 10\n",
    "        self.close_time = 23\n",
    "        self.number_served = 0\n",
    "    \n",
    "    \n",
    "    def describe_restaurant(self):\n",
    "        print ('El nuevo restaurante ' + self.restaurant_name + ' hace comida ' + self.cousine_type)\n",
    "        \n",
    "    def open_restaurant(self):\n",
    "        print('El restaurant ' + self.restaurant_name + ' abre de Lunes a Domingo de ' + str(self.open_time) + 'hrs ' + str(self.close_time) + 'hrs')\n",
    "    \n",
    "    def served(self):\n",
    "        print('Al resaturante han llegado ' + str(self.number_served) + ' clientes')\n",
    "    \n",
    "    def served1(self, number):\n",
    "        if number >= self.number_served:\n",
    "            self.number_served = number\n",
    "        else:\n",
    "            print ('Todavia no llegan clinetes, echale ganas')\n",
    "        "
   ]
  },
  {
   "cell_type": "code",
   "execution_count": 81,
   "metadata": {},
   "outputs": [
    {
     "name": "stdout",
     "output_type": "stream",
     "text": [
      "El nuevo restaurante El garnachero hace comida mexicana\n",
      "None\n",
      "El restaurant El garnachero abre de Lunes a Domingo de 10hrs 23hrs\n",
      "Al resaturante han llegado 3 clientes\n",
      "Al resaturante han llegado 5 clientes\n",
      "Todavia no llegan clinetes, echale ganas\n",
      "Al resaturante han llegado 5 clientes\n"
     ]
    }
   ],
   "source": [
    "my_restau = Restaurant('El garnachero', 'mexicana',10,23)\n",
    "print (my_restau.describe_restaurant())\n",
    "my_restau.open_restaurant()\n",
    "my_restau.served1(3)\n",
    "my_restau.served()\n",
    "my_restau.served1(5)\n",
    "my_restau.served()\n",
    "my_restau.served1(2)\n",
    "my_restau.served()"
   ]
  },
  {
   "cell_type": "code",
   "execution_count": null,
   "metadata": {},
   "outputs": [],
   "source": []
  },
  {
   "cell_type": "code",
   "execution_count": null,
   "metadata": {},
   "outputs": [],
   "source": []
  }
 ],
 "metadata": {
  "kernelspec": {
   "display_name": "Python 2",
   "language": "python",
   "name": "python2"
  },
  "language_info": {
   "codemirror_mode": {
    "name": "ipython",
    "version": 2
   },
   "file_extension": ".py",
   "mimetype": "text/x-python",
   "name": "python",
   "nbconvert_exporter": "python",
   "pygments_lexer": "ipython2",
   "version": "2.7.16"
  }
 },
 "nbformat": 4,
 "nbformat_minor": 2
}
