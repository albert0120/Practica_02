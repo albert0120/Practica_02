{
 "cells": [
  {
   "cell_type": "code",
   "execution_count": 47,
   "metadata": {},
   "outputs": [],
   "source": [
    "class Restaurant():\n",
    "    def __init__(self, restaurant_name, cousine_type, open_time, close_time):\n",
    "        self.restaurant_name = restaurant_name\n",
    "        self.cousine_type = cousine_type\n",
    "        self.open_time = 10\n",
    "        self.close_time = 23\n",
    "        self.number_served = 1\n",
    "    \n",
    "    \n",
    "    def describe_resaturant(self):\n",
    "        print ('El nuevo restaurante ' + self.restaurant_name + ' hace comida ' + self.cousine_type)\n",
    "        \n",
    "    def open_restaurant(self):\n",
    "        print('El restaurant ' + self.restaurant_name + ' abre de Lunes a Domingo de ' + str(self.open_time) + 'hrs ' + str(self.close_time) + 'hrs')\n",
    "    \n",
    "    #def served(self):\n",
    "     #   print('Al resaturante han llegado ' + str(self.number_served) + ' clientes')\n",
    "    \n",
    "    def served1(self, number):\n",
    "        if number >= self.number_served:\n",
    "            self.number_served = number\n",
    "            print('Al resaturante han llegado ' + str(self.number_served) + ' clientes')\n",
    "    \n",
    "        else:\n",
    "            print ('Todavia no llegan clinetes, echale ganas')\n",
    "        \n"
   ]
  },
  {
   "cell_type": "code",
   "execution_count": 50,
   "metadata": {},
   "outputs": [
    {
     "name": "stdout",
     "output_type": "stream",
     "text": [
      "Restaurant El garnachero\n",
      "El nuevo restaurante El garnachero hace comida mexicana\n",
      "El restaurant El garnachero abre de Lunes a Domingo de 10hrs 23hrs\n",
      "Todavia no llegan clinetes, echale ganas\n"
     ]
    }
   ],
   "source": [
    "my_restau = Restaurant('El garnachero', 'mexicana',10,23)\n",
    "print ('Restaurant ' + my_restau.restaurant_name)\n",
    "my_restau.describe_resaturant()\n",
    "my_restau.open_restaurant()\n",
    "my_restau.served1(0)\n",
    "#my_restau.number_served=0\n",
    "#my_restau.served()"
   ]
  },
  {
   "cell_type": "code",
   "execution_count": null,
   "metadata": {},
   "outputs": [],
   "source": []
  }
 ],
 "metadata": {
  "kernelspec": {
   "display_name": "Python 2",
   "language": "python",
   "name": "python2"
  },
  "language_info": {
   "codemirror_mode": {
    "name": "ipython",
    "version": 2
   },
   "file_extension": ".py",
   "mimetype": "text/x-python",
   "name": "python",
   "nbconvert_exporter": "python",
   "pygments_lexer": "ipython2",
   "version": "2.7.16"
  }
 },
 "nbformat": 4,
 "nbformat_minor": 2
}
