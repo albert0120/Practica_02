{
 "cells": [
  {
   "cell_type": "code",
   "execution_count": 5,
   "metadata": {},
   "outputs": [
    {
     "name": "stdout",
     "output_type": "stream",
     "text": [
      "2020 Audi A4\n",
      "This car has 23 miles on it\n",
      "This car has 50 gasoline capacity\n",
      "This car has 6 doors\n"
     ]
    }
   ],
   "source": [
    "class Car():\n",
    "    \"\"\"Clase tipo coche\"\"\"\n",
    "    def __init__(self, make, model, year):\n",
    "        \"\"\"Inicializacion de los atributos\"\"\"\n",
    "        self.make = make\n",
    "        self.model = model\n",
    "        self.year = year\n",
    "        self.odometer_reading = 0\n",
    "        self.gasoline = 0\n",
    "        self.doors = 5\n",
    "    def get_descriptive_name(self):\n",
    "        \"\"\" Imprime las caracteristicas en la pantalla\"\"\"\n",
    "        long_name = str(self.year)+' '+self.make + ' '+self.model\n",
    "        return long_name.title()\n",
    "    \n",
    "    def read_odometer(sefl):\n",
    "        \"\"\"Imprime los kilometros recorrido por el auto\"\"\"\n",
    "        print(\"This car has \" + str(sefl.odometer_reading) + \" miles on it\")\n",
    "    \n",
    "    def update_odometer(self, mileage):\n",
    "        \"\"\"Modifica el valor del metodo desde la funcion\"\"\"\n",
    "        self.odometer_reading = mileage\n",
    "    \n",
    "    def liters_gasoline(self):\n",
    "        \"\"\"\"Litros de gasolina\"\"\"\n",
    "        print('This car has' + ' ' + str(self.gasoline) + ' gasoline capacity')\n",
    "    \n",
    "    def update_liters_gasoline(self, litros_gasolina):\n",
    "        self.gasoline = litros_gasolina\n",
    "    \n",
    "    def doors_car(self):\n",
    "        \"\"\"\"Total de puertas\"\"\"\n",
    "        print('This car has ' + str(self.doors) + ' doors')\n",
    "        \n",
    "    def update_doors_car(self, puerta):\n",
    "        self.doors = puerta\n",
    "    \n",
    "\n",
    "my_new_car = Car('audi','a4',2020)\n",
    "print(my_new_car.get_descriptive_name())\n",
    "my_new_car.update_odometer(23)\n",
    "my_new_car.read_odometer()\n",
    "my_new_car.update_liters_gasoline(50)\n",
    "my_new_car.liters_gasoline()\n",
    "my_new_car.update_doors_car(6)\n",
    "my_new_car.doors_car()"
   ]
  },
  {
   "cell_type": "code",
   "execution_count": null,
   "metadata": {},
   "outputs": [],
   "source": []
  }
 ],
 "metadata": {
  "kernelspec": {
   "display_name": "Python 2",
   "language": "python",
   "name": "python2"
  },
  "language_info": {
   "codemirror_mode": {
    "name": "ipython",
    "version": 2
   },
   "file_extension": ".py",
   "mimetype": "text/x-python",
   "name": "python",
   "nbconvert_exporter": "python",
   "pygments_lexer": "ipython2",
   "version": "2.7.16"
  }
 },
 "nbformat": 4,
 "nbformat_minor": 2
}
