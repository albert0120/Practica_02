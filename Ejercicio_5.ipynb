{
 "cells": [
  {
   "cell_type": "code",
   "execution_count": 15,
   "metadata": {},
   "outputs": [
    {
     "name": "stdout",
     "output_type": "stream",
     "text": [
      "2020 Audi A4\n",
      "This car has 23 miles on it\n",
      "This car has 50 miles on it\n",
      "You cannot do that\n",
      "This car has 50 miles on it\n"
     ]
    }
   ],
   "source": [
    "class Car():\n",
    "    \"\"\"Clase tipo coche\"\"\"\n",
    "    def __init__(self, make, model, year):\n",
    "        \"\"\"Inicializacion de los atributos\"\"\"\n",
    "        self.make = make\n",
    "        self.model = model\n",
    "        self.year = year\n",
    "        self.odometer_reading = 0\n",
    "    \n",
    "    def get_descriptive_name(self):\n",
    "        \"\"\" Imprime las caracteristicas en la pantalla\"\"\"\n",
    "        long_name = str(self.year)+' '+self.make + ' '+self.model\n",
    "        return long_name.title()\n",
    "   \n",
    "    def read_odometer(sefl):\n",
    "        \"\"\"Imprime los kilometros recorrido por el auto\"\"\"\n",
    "        print(\"This car has \" + str(sefl.odometer_reading) + \" miles on it\")\n",
    "    \n",
    "    def update_odometer(self, mileage):\n",
    "        \"\"\"Modifica el valor del metodo desde la funcion\"\"\"\n",
    "        if mileage >= self.odometer_reading:\n",
    "            self.odometer_reading = mileage\n",
    "        else:\n",
    "            print(\"You cannot do that\")\n",
    "\n",
    "my_new_car = Car('audi','a4',2020)\n",
    "print(my_new_car.get_descriptive_name())\n",
    "my_new_car.update_odometer(23)\n",
    "my_new_car.read_odometer()\n",
    "my_new_car.update_odometer(50)\n",
    "my_new_car.read_odometer()\n",
    "my_new_car.update_odometer(10)\n",
    "my_new_car.read_odometer()"
   ]
  },
  {
   "cell_type": "code",
   "execution_count": null,
   "metadata": {},
   "outputs": [],
   "source": []
  }
 ],
 "metadata": {
  "kernelspec": {
   "display_name": "Python 2",
   "language": "python",
   "name": "python2"
  },
  "language_info": {
   "codemirror_mode": {
    "name": "ipython",
    "version": 2
   },
   "file_extension": ".py",
   "mimetype": "text/x-python",
   "name": "python",
   "nbconvert_exporter": "python",
   "pygments_lexer": "ipython2",
   "version": "2.7.16"
  }
 },
 "nbformat": 4,
 "nbformat_minor": 2
}
